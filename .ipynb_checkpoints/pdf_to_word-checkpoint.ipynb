{
 "cells": [
  {
   "cell_type": "code",
   "execution_count": 3,
   "id": "dcebebfa-238a-495a-af56-fb852b33e83b",
   "metadata": {},
   "outputs": [
    {
     "ename": "RuntimeError",
     "evalue": "Failed to initialize Python.Runtime.dll",
     "output_type": "error",
     "traceback": [
      "\u001b[1;31m---------------------------------------------------------------------------\u001b[0m",
      "\u001b[1;31mRuntimeError\u001b[0m                              Traceback (most recent call last)",
      "Cell \u001b[1;32mIn[3], line 1\u001b[0m\n\u001b[1;32m----> 1\u001b[0m \u001b[38;5;28;01mfrom\u001b[39;00m \u001b[38;5;21;01mironpdf\u001b[39;00m \u001b[38;5;28;01mimport\u001b[39;00m \u001b[38;5;241m*\u001b[39m\n",
      "File \u001b[1;32mC:\\Python310\\lib\\site-packages\\ironpdf\\__init__.py:8\u001b[0m\n\u001b[0;32m      6\u001b[0m \u001b[38;5;66;03m# load .NET core\u001b[39;00m\n\u001b[0;32m      7\u001b[0m \u001b[38;5;28;01mfrom\u001b[39;00m \u001b[38;5;21;01mpythonnet\u001b[39;00m \u001b[38;5;28;01mimport\u001b[39;00m load\n\u001b[1;32m----> 8\u001b[0m \u001b[43mload\u001b[49m\u001b[43m(\u001b[49m\u001b[38;5;124;43m\"\u001b[39;49m\u001b[38;5;124;43mcoreclr\u001b[39;49m\u001b[38;5;124;43m\"\u001b[39;49m\u001b[43m)\u001b[49m\n\u001b[0;32m      9\u001b[0m \u001b[38;5;66;03m# imports\u001b[39;00m\n\u001b[0;32m     10\u001b[0m \u001b[38;5;28;01mimport\u001b[39;00m \u001b[38;5;21;01mclr\u001b[39;00m\n",
      "File \u001b[1;32mC:\\Python310\\lib\\site-packages\\pythonnet\\__init__.py:144\u001b[0m, in \u001b[0;36mload\u001b[1;34m(runtime, **params)\u001b[0m\n\u001b[0;32m    141\u001b[0m func \u001b[38;5;241m=\u001b[39m assembly\u001b[38;5;241m.\u001b[39mget_function(\u001b[38;5;124m\"\u001b[39m\u001b[38;5;124mPython.Runtime.Loader.Initialize\u001b[39m\u001b[38;5;124m\"\u001b[39m)\n\u001b[0;32m    143\u001b[0m \u001b[38;5;28;01mif\u001b[39;00m func(\u001b[38;5;124mb\u001b[39m\u001b[38;5;124m\"\u001b[39m\u001b[38;5;124m\"\u001b[39m) \u001b[38;5;241m!=\u001b[39m \u001b[38;5;241m0\u001b[39m:\n\u001b[1;32m--> 144\u001b[0m     \u001b[38;5;28;01mraise\u001b[39;00m \u001b[38;5;167;01mRuntimeError\u001b[39;00m(\u001b[38;5;124m\"\u001b[39m\u001b[38;5;124mFailed to initialize Python.Runtime.dll\u001b[39m\u001b[38;5;124m\"\u001b[39m)\n\u001b[0;32m    146\u001b[0m \u001b[38;5;28;01mimport\u001b[39;00m \u001b[38;5;21;01matexit\u001b[39;00m\n\u001b[0;32m    148\u001b[0m atexit\u001b[38;5;241m.\u001b[39mregister(unload)\n",
      "\u001b[1;31mRuntimeError\u001b[0m: Failed to initialize Python.Runtime.dll"
     ]
    }
   ],
   "source": [
    "from ironpdf import *"
   ]
  },
  {
   "cell_type": "code",
   "execution_count": null,
   "id": "613f7b24-59c2-4fdd-a1f5-0d6c7a4867b2",
   "metadata": {},
   "outputs": [],
   "source": [
    "# Set a log path\n",
    "Logger.EnableDebugging = True\n",
    "Logger.LogFilePath = \"Custom.log\"\n",
    "Logger.LoggingMode = Logger.LoggingModes.All"
   ]
  },
  {
   "cell_type": "code",
   "execution_count": null,
   "id": "589428a3-8fad-4be1-8947-b0971cfc4b90",
   "metadata": {},
   "outputs": [],
   "source": [
    "from ironpdf import *\n",
    "# Load existing PDF document\n",
    "pdf = PdfDocument.FromFile(\"content.pdf\")\n",
    "# Extract text from PDF document\n",
    "all_text = pdf.ExtractAllText()\n",
    "print(all_text)"
   ]
  },
  {
   "cell_type": "code",
   "execution_count": null,
   "id": "a684c8ea-56b4-4fd7-b163-cff76540059f",
   "metadata": {},
   "outputs": [],
   "source": [
    "from ironpdf import *\n",
    "# Load existing PDF document\n",
    "pdf = PdfDocument.FromFile(\"content.pdf\")\n",
    "# Extract text from PDF document\n",
    "all_text = pdf.ExtractAllText()\n",
    "print(all_text)"
   ]
  }
 ],
 "metadata": {
  "kernelspec": {
   "display_name": "Python 3 (ipykernel)",
   "language": "python",
   "name": "python3"
  },
  "language_info": {
   "codemirror_mode": {
    "name": "ipython",
    "version": 3
   },
   "file_extension": ".py",
   "mimetype": "text/x-python",
   "name": "python",
   "nbconvert_exporter": "python",
   "pygments_lexer": "ipython3",
   "version": "3.10.7"
  }
 },
 "nbformat": 4,
 "nbformat_minor": 5
}
