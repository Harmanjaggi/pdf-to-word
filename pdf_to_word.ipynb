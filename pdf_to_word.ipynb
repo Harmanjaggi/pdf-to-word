{
 "cells": [
  {
   "cell_type": "markdown",
   "id": "7c214bb5-3d56-487e-bcd8-639bc68bca16",
   "metadata": {},
   "source": [
    "### Importing required modules"
   ]
  },
  {
   "cell_type": "code",
   "execution_count": 60,
   "id": "dcebebfa-238a-495a-af56-fb852b33e83b",
   "metadata": {},
   "outputs": [],
   "source": [
    "from PyPDF2 import PdfReader\n",
    "import pandas as pd\n",
    "import numpy as np\n",
    "import collections\n",
    "import re"
   ]
  },
  {
   "cell_type": "markdown",
   "id": "3c2b29bf-c29a-43cc-80c3-3a44cb40b061",
   "metadata": {},
   "source": [
    "### Creating a pdf reader object"
   ]
  },
  {
   "cell_type": "code",
   "execution_count": 61,
   "id": "613f7b24-59c2-4fdd-a1f5-0d6c7a4867b2",
   "metadata": {},
   "outputs": [],
   "source": [
    "pdf1 = PdfReader('HarmanSinghJaggiResume.pdf')\n",
    "pdf2 = PdfReader('sampleResume1.pdf')\n",
    "pdf3 = PdfReader('sampleResume2.pdf')\n",
    "pdf4 = PdfReader('sampleResume3.pdf')\n",
    "\n",
    "pdf = [pdf1, pdf2, pdf3, pdf4]"
   ]
  },
  {
   "cell_type": "markdown",
   "id": "e26e9c1b-fe12-43e7-b942-0fad0b903595",
   "metadata": {},
   "source": [
    "### length of pdf file"
   ]
  },
  {
   "cell_type": "code",
   "execution_count": 62,
   "id": "589428a3-8fad-4be1-8947-b0971cfc4b90",
   "metadata": {},
   "outputs": [
    {
     "name": "stdout",
     "output_type": "stream",
     "text": [
      "4\n"
     ]
    }
   ],
   "source": [
    "len_of_pdf =  len(pdf)\n",
    "print(len_of_pdf)"
   ]
  },
  {
   "cell_type": "markdown",
   "id": "30c082fd-eb62-4be2-8958-9034e2acee3f",
   "metadata": {},
   "source": [
    "### Extracting text"
   ]
  },
  {
   "cell_type": "code",
   "execution_count": 63,
   "id": "6ac8aa6c-c34e-4469-ae33-6e94ecc0acea",
   "metadata": {},
   "outputs": [
    {
     "name": "stdout",
     "output_type": "stream",
     "text": [
      "[['motivated', 'b', 'tech', 'professional', 'having', 'a', 'strong', 'foundation', 'in', 'software', 'development', 'and', 'strong', 'knowledge', 'of', 'machine', 'learning', 'targeting', 'a', 'challenging', 'position', 'to', 'leverage', 'acquired', 'skills', 'to', 'develop', 'innovative', 'machine', 'learning', 'solutions', 'to', 'generate', 'actionable', 'insights', 'contact', 'me', 'harmanjaggs', 'gmail', 'com', '91', '9873424386', 'github', 'com', 'harmanjaggi', 'linkedin', 'com', 'in', 'harman', 'jaggi', '2001', 'https', 'leetcode', 'com', 'harmanjaggi', 'education', 'b', 'tech', 'cse', 'from', 'guru', 'gobind', 'singh', 'indraprastha', 'university', 'in', '2023', '12th', 'from', 'kulachi', 'hansraj', 'model', 'school', 'in', '2019', '10th', 'from', 'kulachi', 'hansraj', 'model', 'school', 'in', '2017', 'knowledge', 'purview', 'software', 'development', 'data', 'structure', 'algorithms', 'machine', 'learning', 'requirement', 'gathering', 'bloc', 'architecture', 'technical', 'skills', 'c', 'c', 'dart', 'flutter', 'android', 'studio', 'firebase', 'javascript', 'html', '5', 'mysql', 'soft', 'skills', 'communication', 'problem', 'solving', 'teamwork', 'analytical', 'harman', 'singh', 'jaggi', 'profile', 'summary', 'analytical', 'and', 'detail', 'oriented', 'software', 'developer', 'having', 'successfully', 'completed', 'a', '6', 'month', 'internship', 'as', 'a', 'software', 'developer', 'and', 'gained', 'valuable', 'hands', 'on', 'experience', 'in', 'building', 'mobile', 'apps', 'proficient', 'in', 'designing', 'mobile', 'based', 'applications', 'through', 'flutter', 'equipped', 'with', 'a', 'strong', 'knowledge', 'in', 'machine', 'learning', 'and', 'data', 'science', 'advanced', 'understanding', 'and', 'practical', 'application', 'of', 'data', 'structures', 'and', 'algorithms', 'to', 'effectively', 'solve', 'complex', 'problems', 'skilled', 'in', 'database', 'management', 'system', 'ensuring', 'data', 'integrity', 'and', 'performance', 'optimization', 'capable', 'of', 'utilizing', 'python', 'for', 'data', 'analysis', 'manipulation', 'and', 'modeling', 'committed', 'to', 'expanding', 'knowledge', 'in', 'the', 'field', 'of', 'data', 'science', 'and', 'machine', 'learning', 'to', 'enhance', 'skills', 'and', 'stay', 'updated', 'with', 'the', 'latest', 'advancements', 'exceptional', 'analytical', 'and', 'problem', 'solving', 'skills', 'enabling', 'the', 'identification', 'and', 'resolution', 'of', 'complex', 'issues', 'in', 'a', 'systematic', 'and', 'efficient', 'manner', 'internship', 'zylu', 'business', 'solutions', 'pvt', 'ltd', 'online', 'feb', '23', 'may', '23', 'software', 'developer', 'intern', 'utilized', 'the', 'business', 'app', 'to', 'enhance', 'operational', 'efficiency', 'designed', 'and', 'implemented', 'flutter', 'based', 'mobile', 'application', 'contributed', 'in', 'development', 'of', 'software', 'certifications', 'pursuing', 'introduction', 'to', 'machine', 'learning', 'nptel', 'iit', 'madras', 'pursuing', 'data', 'science', 'for', 'engineers', 'nptel', 'iit', 'madras', 'pursuing', 'python', 'for', 'data', 'science', 'nptel', 'iit', 'madras', 'machine', 'learning', 'certification', 'stanford', 'university', '2023', 'o', 'supervised', 'machine', 'learning', 'regression', 'and', 'classification', 'o', 'advanced', 'learning', 'algorithm', 'o', 'unsupervised', 'learning', 'recommenders', 'reinforcement', 'learning', 'trainings', 'bloc', 'architecture', 'flutter', 'swami', 'shraddhanand', 'college', 'du', 'sep', '22', 'duration', '2', 'months', 'flutter', 'app', 'development', 'hatchhack', 'foundation', 'sep', '21', 'duration', '2', 'months', 'projects', 'parking', 'slot', 'detection', 'system', 'leveraged', 'image', 'processing', 'machine', 'learning', 'algorithms', 'for', 'real', 'time', 'identification', 'of', 'vacant', 'and', 'occupied', 'parking', 'spaces', 'lazyengineer', 'app', 'group', 'project', 'created', 'an', 'intuitive', 'interface', 'for', 'accessing', 'college', 'related', 'documents', 'with', 'advanced', 'filtering', 'options', 'food', 'stuff', 'app', 'group', 'project', 'generated', 'user', 'friendly', 'recipe', 'discovery', 'application', 'with', 'comprehensive', 'instructions', 'on', 'food', 'preparation', 'integrated', 'api', 'to', 'offer', 'a', 'wide', 'range', 'of', 'exciting', 'recipes', 'to', 'users', 'college', 'chat', 'app', 'developed', 'chat', 'app', 'using', 'flutter', 'framework', 'for', 'real', 'time', 'communication', 'among', 'students', 'e', 'commerce', 'app', 'developed', 'interactive', 'e', 'commerce', 'website', 'using', 'html', 'css', 'and', 'javascript', 'to', 'enhance', 'user', 'experience', 'drive', 'sales', 'and', 'showcase', 'a', 'wide', 'range', 'of', 'products', 'personal', 'details', 'date', 'of', 'birth', '22nd', 'august', '2001', 'address', 'ashok', 'vihar', 'delhi', '110052'], ['resume', 'sample', 'computer', 'science', 'pre', 'career', 'im', 'a', 'spartan', 'san', 'jose', 'ca', '95192', '408', '555', '5555', 'imaspartan', 'gmail', 'com', 'linkedin', 'in', 'imaspartan', 'objective', 'seeking', 'internship', 'in', 'application', 'development', 'education', 'b', 's', 'computer', 'science', 'may', '20xx', 'san', 'jose', 'state', 'university', 'san', 'jose', 'ca', 'gpa', '3', '33', 'related', 'coursework', 'programming', 'in', 'java', 'c', 'and', 'c', 'computer', 'graphics', 'algorithms', 'data', 'structures', 'and', 'algorithms', 'unix', 'computer', 'architecture', 'object', 'oriented', 'programming', 'computer', 'networks', 'technical', 'skills', 'computer', 'c', 'c', 'java', 'sql', 'html', 'visual', 'basic', 'perl', 'remote', 'zoom', 'google', 'meets', 'slack', 'discord', 'project', 'experience', 'network', 'game', 'development', 'sjsu', 'spring', '20xx', 'volunteered', 'for', 'lead', 'role', 'on', 'a', 'team', 'of', '3', 'in', 'designing', 'and', 'developing', 'network', 'game', 'in', 'java', 'brainstormed', 'ideas', 'and', 'delegated', 'technical', 'responsibilities', 'and', 'tasks', 'to', 'team', 'members', 'using', 'weekly', 'discord', 'meetings', 'to', 'ensure', 'everyone', 'stayed', 'on', 'task', 'produced', 'a', 'fully', 'functioning', 'web', 'based', 'multi', 'player', 'game', 'and', 'successfully', 'presented', 'team', 'demonstration', 'via', 'zoom', 'to', 'class', 'of', '35', 'programming', 'in', 'c', 'sjsu', 'fall', '20xx', 'independently', 'wrote', 'complex', 'program', 'for', 'hangman', 'game', 'in', 'c', 'created', 'interface', 'for', 'graphics', 'and', 'script', 'components', 'gained', 'valuable', 'knowledge', 'and', 'skills', 'in', 'using', 'c', 'for', 'application', 'software', 'related', 'experience', 'network', 'support', 'administrator', 'new', 'age', 'computer', 'solutions', 'fremont', 'ca', 'aug', '20xx', 'present', 'repair', 'and', 'debug', 'hardware', 'and', 'software', 'systems', 'adapt', 'company', 's', 'software', 'applications', 'to', 'work', 'on', 'remote', 'access', 'network', 'and', 'install', 'extensive', 'hardware', 'to', 'augment', 'the', 'system', 'increased', 'company', 's', 'user', 'satisfaction', 'rating', 'by', '20', 'qa', 'tester', 'zareh', 'inc', 'milpitas', 'ca', 'jan', '20xx', 'aug', '20xx', 'tested', 'and', 'evaluated', 'printer', 'drivers', 'and', 'wrote', 'reports', 'on', 'problems', 'detected', 'collaborated', 'with', 'engineers', 'in', 'developing', 'and', 'designing', 'test', 'matrices', 'inventory', 'shipping', 'and', 'receiving', 'clerk', 'globus', 'corporation', 'san', 'jose', 'ca', 'jun', '20xx', 'dec', '20xx', 'generated', 'reliable', 'weekly', 'and', 'monthly', 'reports', 'on', 'all', 'products', 'and', 'materials', 'in', 'stock', 'managed', 'stockroom', 'activities', 'and', 'provided', 'updated', 'inventory', 'figures', 'reduced', 'inventory', 'errors', 'by', '17', 'within', '6', 'months', 'activities', 'president', 'sjsu', 'computer', 'science', 'club', 'sep', '20xx', 'present', 'volunteer', 'tutor', 'abc', 'for', 'kids', 'sep', '20xx', 'present'], ['computer', 'science', 'name', 'resume', 'example', '1255', 'university', 'of', 'utah', 'circle', 'las', 'vegas', 'nv', '84112', '801', '581', '6186', 'name', 'email', 'com', 'linked', 'in', 'www', 'linkedin', 'com', 'in', 'name', 'education', 'ensign', 'college', 'as', 'sociate', 'of', 'applied', 'salt', 'lake', 'city', 'ut', 'science', 'computer', 'science', 'gpa', '3', '55', 'graduation', 'may', '20xx', 'relevant', 'skills', 'programming', 'languages', 'c', 'c', 'c', 'java', 'javascript', 'swift', 'html', 'mysql', 'python', 'programming', 'environments', 'visual', 'studio', 'eclipse', 'unity', 'xamarin', 'studio', 'emacs', 'textwrangler', 'xcode', 'sublime', '2', 'work', 'environments', 'osx', 'windows', 'linux', 'ios', 'android', 'unix', 'terminal', 'software', 'adobe', 'photoshop', 'adobe', 'indesign', 'google', 'drive', 'dropbox', 'microsoft', 'office', 'iworks', 'google', 'calendar', 'mozilla', 'thunderbird', 'relevant', 'courses', 'software', 'practice', 'i', 'ii', 'artificial', 'intelligence', 'computer', 'graphics', 'computer', 'systems', 'cyber', 'ethics', 'differential', 'equations', 'probability', 'and', 'stats', 'discrete', 'mathematics', 'technical', 'projects', 'class', 'project', 'networked', 'spreadsheet', 'created', 'a', 'google', 'spreadsheet', 'like', 'program', 'with', 'a', 'client', 'in', 'c', 'and', 'server', 'in', 'c', 'worked', 'on', 'a', 'team', 'of', '4', 'to', 'design', 'a', 'communication', 'protocol', 'create', 'and', 'test', 'the', 'program', 'server', 'leader', 'designed', 'the', 'c', 'server', 'for', 'asynchronous', 'communication', 'class', 'project', 'custom', 'image', 'encoder', 'decoder', 'with', 'ffmpeg', 'learned', 'how', 'images', 'are', 'stored', 'electronically', 'and', 'to', 'draw', 'images', 'by', 'pixel', 'manipulation', 'gained', 'experience', 'working', 'with', 'a', 'large', 'open', 'source', 'codebase', 'with', 'poor', 'documentation', 'linked', 'into', 'ffmpeg', 'libraries', 'and', 'called', 'methods', 'to', 'create', 'a', 'program', 'that', 'makes', 'videos', 'class', 'project', 'problem', 'solving', 'search', 'explored', 'solving', 'the', 'towers', 'of', 'hanoi', 'game', 'with', 'multiple', 'search', 'algorithms', 'implemented', 'a', 'tree', 'structure', 'that', 'saved', 'time', 'and', 'memory', 'usage', 'measured', 'efficiency', 'of', 'algorithms', 'by', 'number', 'of', 'nodes', 'traversed', 'by', 'algorithms', 'relevant', 'experience', 'undergraduate', 'student', 'advisory', 'committee', 'committee', 'chair', 'ensign', 'college', 'slc', '20xx', 'present', 'host', 'the', 'school', 'of', 'computing', 's', 'open', 'house', 'how', 'to', 'be', 'a', 'computer', 'science', 'student', 'interview', 'faculty', 'candidates', 'about', 'areas', 'of', 'expertise', 'and', 'evaluates', 'ability', 'to', 'teach', 'association', 'for', 'computing', 'machinery', 'university', 'of', 'utah', 'slc', '20xx', 'present', 'participate', 'in', 'team', 'coding', 'competitions', 'to', 'quickly', 'solve', 'problems', 'meet', 'with', 'programmers', 'to', 'talk', 'about', 'working', 'in', 'industry', 'or', 'research', 'resident', 'advisor', 'housing', 'residential', 'education', 'office', 'slc', '20xx', '20xx', 'worked', 'with', 'a', 'team', 'of', '22', 'people', 'to', 'help', 'over', '300', 'freshmen', 'adjust', 'to', 'college'], ['saurabh', 'gupta', 'senior', 'year', 'b', 'tech', 'student', '91', '9911592327', 'computer', 'science', 'and', 'engineering', 'cs1070185', 'cse', 'iitd', 'ernet', 'in', 'indian', 'institute', 'of', 'technology', 'delhi', 'http', 'www', 'cse', 'iitd', 'ernet', 'in', 'cs1070185', 'academic', 'details', 'year', 'degree', 'institute', 'percentage', 'cgpa', '2007', 'btech', 'in', 'computer', 'science', 'indian', 'institute', 'of', 'technology', 'cgpa', '9', '938', '10', 'present', 'and', 'engineering', 'delhi', 'institute', 'rank', '1', '2007class', 'xii', 'bal', 'bharati', 'public', 'school', '90', '2', 'cbse', 'aissce', 'rohini', 'delhi', '99', 'in', 'computer', 'science', '2005class', 'x', 'bal', 'bharati', 'public', 'school', '93', '4', 'cbse', 'aisse', 'rohini', 'delhi', '100', 'in', 'mathematics', 'objective', 'to', 'pursue', 'graduate', 'studies', 'in', 'computer', 'science', 'and', 'engineering', 'leading', 'to', 'a', 'career', 'in', 'research', 'i', 'am', 'interested', 'in', 'computer', 'vision', 'and', 'machine', 'learning', 'major', 'projects', 'improving', 'performance', 'with', 'mkl', 'in', 'svms', 'dr', 'manik', 'varma', 'msr', 'india', 'dr', 'prateek', 'jain', 'msr', 'india', 'summer', 'internship', 'and', 'b', 'tech', 'project', 'may', '2010', 'present', 'support', 'vector', 'machines', 'learn', 'linear', 'classi', 'ers', 'from', 'labelled', 'training', 'data', 'to', 'predict', 'labels', 'for', 'previ', 'ously', 'unseen', 'test', 'data', 'kernels', 'with', 'svm', 's', 'allow', 'to', 'learn', 'non', 'linear', 'classi', 'ers', 'and', 'hence', 'lead', 'to', 'much', 'higher', 'classi', 'cation', 'accuracies', 'in', 'practice', 'we', 'are', 'learning', 'non', 'linear', 'kernel', 'combinations', 'to', 'give', 'us', 'even', 'better', 'classi', 'cation', 'accuracies', 'and', 'are', 'seeing', 'a', 'possibility', 'of', 'a', 'signi', 'cant', 'performance', 'increase', 'also', 'looking', 'at', 'new', 'regularizers', 'which', 'take', 'into', 'account', 'the', 'model', 'complexity', 'for', 'use', 'in', 'the', 'mkl', 'objective', 'working', 'towards', 'submitting', 'this', 'to', 'one', 'of', 'icml', 'nips', 'or', 'eccv', 'unsupervised', 'video', 'surveillance', 'prof', 'subhashis', 'banerjee', 'cse', 'iitd', 'student', 'undergraduate', 'research', 'award', 'sura', '2009', 'may', '2009', 'october', '2009', 'this', 'project', 'involved', 'the', 'development', 'of', 'a', 'novel', 'technique', 'to', 'detect', 'unusual', 'activities', 'in', 'videos', 'in', 'an', 'unsupervised', 'manner', 'we', 'used', 'plsa', 'with', 'an', 'appropriate', 'choice', 'for', 'features', 'on', 'video', 'clips', 'to', 'obtain', 'clustering', 'of', 'similar', 'videos', 'and', 'any', 'new', 'activity', 'di', 'erent', 'from', 'the', 'ones', 'learnt', 'was', 'agged', 'as', 'unusual', 'we', 'also', 'extended', 'the', 'idea', 'to', 'multi', 'person', 'unusual', 'activity', 'detection', 'other', 'projects', 'captcha', 'reader', 'prof', 'prem', 'kalra', 'digital', 'image', 'analysis', 'course', 'project', 'november', '2010', 'i', 'made', 'a', 'simple', 'captcha', 'reader', 'to', 'read', 'the', 'captcha', 'in', 'use', 'for', 'the', 'institute', 'web', 'mail', 'it', 'involved', 'letter', 'segmentation', 'and', 'training', 'in', 'a', 'semi', 'supervised', 'manner', 'using', 'a', 'knn', 'classi', 'er', 'using', 'structural', 'information', 'for', 'object', 'recognition', 'prof', 'subhashis', 'banerjee', 'computer', 'vision', 'course', 'project', 'april', '2010', 'i', 'investigated', 'various', 'feature', 'vectors', 'and', 'techniques', 'and', 'frameworks', 'for', 'incorporating', 'structural', 'infor', 'mation', 'in', 'object', 'recognition', 'tasks', 'non', 'photo', 'realistic', 'rendering', 'prof', 'prem', 'kalra', 'digital', 'image', 'analysis', 'course', 'project', 'september', '2010', 'implemented', 'color', 'quantization', 'dithering', 'image', 'segmentation', 'and', 'edge', 'enhancement', 'by', 'edge', 'linking', 'di', 'erential', 'thickening', 'and', 'smoothing', 'to', 'give', 'a', 'painterly', 'look', 'to', 'photo', 'realistic', 'images', 'knowledge', 'management', 'prof', 'subhashis', 'banerjee', 'independent', 'project', 'january', '2010', 'october', '2010', 'conceptualized', 'new', 'web', '2', '0', 'based', 'it', 'services', 'such', 'as', 'interest', 'group', 'discussion', 'forums', 'campussaurabh', 'gupta', 'senior', 'year', 'b', 'tech', 'student', '91', '9911592327', 'computer', 'science', 'and', 'engineering', 'cs1070185', 'cse', 'iitd', 'ernet', 'in', 'indian', 'institute', 'of', 'technology', 'delhi', 'http', 'www', 'cse', 'iitd', 'ernet', 'in', 'cs1070185', 'academic', 'details', 'year', 'degree', 'institute', 'percentage', 'cgpa', '2007', 'btech', 'in', 'computer', 'science', 'indian', 'institute', 'of', 'technology', 'cgpa', '9', '938', '10', 'present', 'and', 'engineering', 'delhi', 'institute', 'rank', '1', '2007class', 'xii', 'bal', 'bharati', 'public', 'school', '90', '2', 'cbse', 'aissce', 'rohini', 'delhi', '99', 'in', 'computer', 'science', '2005class', 'x', 'bal', 'bharati', 'public', 'school', '93', '4', 'cbse', 'aisse', 'rohini', 'delhi', '100', 'in', 'mathematics', 'objective', 'to', 'pursue', 'graduate', 'studies', 'in', 'computer', 'science', 'and', 'engineering', 'leading', 'to', 'a', 'career', 'in', 'research', 'i', 'am', 'interested', 'in', 'computer', 'vision', 'and', 'machine', 'learning', 'major', 'projects', 'improving', 'performance', 'with', 'mkl', 'in', 'svms', 'dr', 'manik', 'varma', 'msr', 'india', 'dr', 'prateek', 'jain', 'msr', 'india', 'summer', 'internship', 'and', 'b', 'tech', 'project', 'may', '2010', 'present', 'support', 'vector', 'machines', 'learn', 'linear', 'classi', 'ers', 'from', 'labelled', 'training', 'data', 'to', 'predict', 'labels', 'for', 'previ', 'ously', 'unseen', 'test', 'data', 'kernels', 'with', 'svm', 's', 'allow', 'to', 'learn', 'non', 'linear', 'classi', 'ers', 'and', 'hence', 'lead', 'to', 'much', 'higher', 'classi', 'cation', 'accuracies', 'in', 'practice', 'we', 'are', 'learning', 'non', 'linear', 'kernel', 'combinations', 'to', 'give', 'us', 'even', 'better', 'classi', 'cation', 'accuracies', 'and', 'are', 'seeing', 'a', 'possibility', 'of', 'a', 'signi', 'cant', 'performance', 'increase', 'also', 'looking', 'at', 'new', 'regularizers', 'which', 'take', 'into', 'account', 'the', 'model', 'complexity', 'for', 'use', 'in', 'the', 'mkl', 'objective', 'working', 'towards', 'submitting', 'this', 'to', 'one', 'of', 'icml', 'nips', 'or', 'eccv', 'unsupervised', 'video', 'surveillance', 'prof', 'subhashis', 'banerjee', 'cse', 'iitd', 'student', 'undergraduate', 'research', 'award', 'sura', '2009', 'may', '2009', 'october', '2009', 'this', 'project', 'involved', 'the', 'development', 'of', 'a', 'novel', 'technique', 'to', 'detect', 'unusual', 'activities', 'in', 'videos', 'in', 'an', 'unsupervised', 'manner', 'we', 'used', 'plsa', 'with', 'an', 'appropriate', 'choice', 'for', 'features', 'on', 'video', 'clips', 'to', 'obtain', 'clustering', 'of', 'similar', 'videos', 'and', 'any', 'new', 'activity', 'di', 'erent', 'from', 'the', 'ones', 'learnt', 'was', 'agged', 'as', 'unusual', 'we', 'also', 'extended', 'the', 'idea', 'to', 'multi', 'person', 'unusual', 'activity', 'detection', 'other', 'projects', 'captcha', 'reader', 'prof', 'prem', 'kalra', 'digital', 'image', 'analysis', 'course', 'project', 'november', '2010', 'i', 'made', 'a', 'simple', 'captcha', 'reader', 'to', 'read', 'the', 'captcha', 'in', 'use', 'for', 'the', 'institute', 'web', 'mail', 'it', 'involved', 'letter', 'segmentation', 'and', 'training', 'in', 'a', 'semi', 'supervised', 'manner', 'using', 'a', 'knn', 'classi', 'er', 'using', 'structural', 'information', 'for', 'object', 'recognition', 'prof', 'subhashis', 'banerjee', 'computer', 'vision', 'course', 'project', 'april', '2010', 'i', 'investigated', 'various', 'feature', 'vectors', 'and', 'techniques', 'and', 'frameworks', 'for', 'incorporating', 'structural', 'infor', 'mation', 'in', 'object', 'recognition', 'tasks', 'non', 'photo', 'realistic', 'rendering', 'prof', 'prem', 'kalra', 'digital', 'image', 'analysis', 'course', 'project', 'september', '2010', 'implemented', 'color', 'quantization', 'dithering', 'image', 'segmentation', 'and', 'edge', 'enhancement', 'by', 'edge', 'linking', 'di', 'erential', 'thickening', 'and', 'smoothing', 'to', 'give', 'a', 'painterly', 'look', 'to', 'photo', 'realistic', 'images', 'knowledge', 'management', 'prof', 'subhashis', 'banerjee', 'independent', 'project', 'january', '2010', 'october', '2010', 'conceptualized', 'new', 'web', '2', '0', 'based', 'it', 'services', 'such', 'as', 'interest', 'group', 'discussion', 'forums', 'campussaurabh', 'gupta', 'senior', 'year', 'b', 'tech', 'student', '91', '9911592327', 'computer', 'science', 'and', 'engineering', 'cs1070185', 'cse', 'iitd', 'ernet', 'in', 'indian', 'institute', 'of', 'technology', 'delhi', 'http', 'www', 'cse', 'iitd', 'ernet', 'in', 'cs1070185', 'academic', 'details', 'year', 'degree', 'institute', 'percentage', 'cgpa', '2007', 'btech', 'in', 'computer', 'science', 'indian', 'institute', 'of', 'technology', 'cgpa', '9', '938', '10', 'present', 'and', 'engineering', 'delhi', 'institute', 'rank', '1', '2007class', 'xii', 'bal', 'bharati', 'public', 'school', '90', '2', 'cbse', 'aissce', 'rohini', 'delhi', '99', 'in', 'computer', 'science', '2005class', 'x', 'bal', 'bharati', 'public', 'school', '93', '4', 'cbse', 'aisse', 'rohini', 'delhi', '100', 'in', 'mathematics', 'objective', 'to', 'pursue', 'graduate', 'studies', 'in', 'computer', 'science', 'and', 'engineering', 'leading', 'to', 'a', 'career', 'in', 'research', 'i', 'am', 'interested', 'in', 'computer', 'vision', 'and', 'machine', 'learning', 'major', 'projects', 'improving', 'performance', 'with', 'mkl', 'in', 'svms', 'dr', 'manik', 'varma', 'msr', 'india', 'dr', 'prateek', 'jain', 'msr', 'india', 'summer', 'internship', 'and', 'b', 'tech', 'project', 'may', '2010', 'present', 'support', 'vector', 'machines', 'learn', 'linear', 'classi', 'ers', 'from', 'labelled', 'training', 'data', 'to', 'predict', 'labels', 'for', 'previ', 'ously', 'unseen', 'test', 'data', 'kernels', 'with', 'svm', 's', 'allow', 'to', 'learn', 'non', 'linear', 'classi', 'ers', 'and', 'hence', 'lead', 'to', 'much', 'higher', 'classi', 'cation', 'accuracies', 'in', 'practice', 'we', 'are', 'learning', 'non', 'linear', 'kernel', 'combinations', 'to', 'give', 'us', 'even', 'better', 'classi', 'cation', 'accuracies', 'and', 'are', 'seeing', 'a', 'possibility', 'of', 'a', 'signi', 'cant', 'performance', 'increase', 'also', 'looking', 'at', 'new', 'regularizers', 'which', 'take', 'into', 'account', 'the', 'model', 'complexity', 'for', 'use', 'in', 'the', 'mkl', 'objective', 'working', 'towards', 'submitting', 'this', 'to', 'one', 'of', 'icml', 'nips', 'or', 'eccv', 'unsupervised', 'video', 'surveillance', 'prof', 'subhashis', 'banerjee', 'cse', 'iitd', 'student', 'undergraduate', 'research', 'award', 'sura', '2009', 'may', '2009', 'october', '2009', 'this', 'project', 'involved', 'the', 'development', 'of', 'a', 'novel', 'technique', 'to', 'detect', 'unusual', 'activities', 'in', 'videos', 'in', 'an', 'unsupervised', 'manner', 'we', 'used', 'plsa', 'with', 'an', 'appropriate', 'choice', 'for', 'features', 'on', 'video', 'clips', 'to', 'obtain', 'clustering', 'of', 'similar', 'videos', 'and', 'any', 'new', 'activity', 'di', 'erent', 'from', 'the', 'ones', 'learnt', 'was', 'agged', 'as', 'unusual', 'we', 'also', 'extended', 'the', 'idea', 'to', 'multi', 'person', 'unusual', 'activity', 'detection', 'other', 'projects', 'captcha', 'reader', 'prof', 'prem', 'kalra', 'digital', 'image', 'analysis', 'course', 'project', 'november', '2010', 'i', 'made', 'a', 'simple', 'captcha', 'reader', 'to', 'read', 'the', 'captcha', 'in', 'use', 'for', 'the', 'institute', 'web', 'mail', 'it', 'involved', 'letter', 'segmentation', 'and', 'training', 'in', 'a', 'semi', 'supervised', 'manner', 'using', 'a', 'knn', 'classi', 'er', 'using', 'structural', 'information', 'for', 'object', 'recognition', 'prof', 'subhashis', 'banerjee', 'computer', 'vision', 'course', 'project', 'april', '2010', 'i', 'investigated', 'various', 'feature', 'vectors', 'and', 'techniques', 'and', 'frameworks', 'for', 'incorporating', 'structural', 'infor', 'mation', 'in', 'object', 'recognition', 'tasks', 'non', 'photo', 'realistic', 'rendering', 'prof', 'prem', 'kalra', 'digital', 'image', 'analysis', 'course', 'project', 'september', '2010', 'implemented', 'color', 'quantization', 'dithering', 'image', 'segmentation', 'and', 'edge', 'enhancement', 'by', 'edge', 'linking', 'di', 'erential', 'thickening', 'and', 'smoothing', 'to', 'give', 'a', 'painterly', 'look', 'to', 'photo', 'realistic', 'images', 'knowledge', 'management', 'prof', 'subhashis', 'banerjee', 'independent', 'project', 'january', '2010', 'october', '2010', 'conceptualized', 'new', 'web', '2', '0', 'based', 'it', 'services', 'such', 'as', 'interest', 'group', 'discussion', 'forums', 'campus']]\n"
     ]
    }
   ],
   "source": [
    "pdfs = []\n",
    "\n",
    "for i in range(len_of_pdf):\n",
    "    pages = str()\n",
    "    len_pages = len(pdf[i].pages)\n",
    "    for j in range(len_pages):\n",
    "        page = pdf[i].pages[0]\n",
    "        # extracting page\n",
    "        text = page.extract_text()\n",
    "        pages += text\n",
    "    # removing grammer\n",
    "    new_text = re.sub(r\"[^a-zA-Z0-9]\", \" \", pages.lower()).split()\n",
    "    pdfs.append(new_text)\n",
    "\n",
    "print(pdfs)"
   ]
  },
  {
   "cell_type": "code",
   "execution_count": 64,
   "id": "80209f56-1495-492a-841c-350d9dcb3bae",
   "metadata": {},
   "outputs": [
    {
     "name": "stdout",
     "output_type": "stream",
     "text": [
      "['' '0' '1' '10' '100' '10th' '110052' '1255' '12th' '17' '2' '20' '2001'\n",
      " '2005class' '2007' '2007class' '2009' '2010' '2017' '2019' '2023' '20xx'\n",
      " '21' '22' '22nd' '23' '3' '300' '33' '35' '4' '408' '5' '55' '555' '5555'\n",
      " '581' '6' '6186' '801' '84112' '9' '90' '91' '93' '938' '95192'\n",
      " '9873424386' '99' '9911592327' 'a' 'abc' 'ability' 'about' 'academic'\n",
      " 'access' 'accessing' 'account' 'accuracies' 'acquired' 'actionable'\n",
      " 'activities' 'activity' 'adapt' 'address' 'adjust' 'administrator'\n",
      " 'adobe' 'advanced' 'advancements' 'advisor' 'advisory' 'age' 'agged'\n",
      " 'aissce' 'aisse' 'algorithm' 'algorithms' 'all' 'allow' 'also' 'am'\n",
      " 'among' 'an' 'analysis' 'analytical' 'and' 'android' 'any' 'api' 'app'\n",
      " 'application' 'applications' 'applied' 'appropriate' 'apps' 'april'\n",
      " 'architecture' 'are' 'areas' 'artificial' 'as' 'ashok' 'association'\n",
      " 'asynchronous' 'at' 'aug' 'augment' 'august' 'award' 'b' 'bal' 'banerjee'\n",
      " 'based' 'basic' 'be' 'better' 'bharati' 'birth' 'bloc' 'brainstormed'\n",
      " 'btech' 'building' 'business' 'by' 'c' 'ca' 'calendar' 'called' 'campus'\n",
      " 'campussaurabh' 'candidates' 'cant' 'capable' 'captcha' 'career' 'cation'\n",
      " 'cbse' 'certification' 'certifications' 'cgpa' 'chair' 'challenging'\n",
      " 'chat' 'choice' 'circle' 'city' 'class' 'classi' 'classification' 'clerk'\n",
      " 'client' 'clips' 'club' 'clustering' 'codebase' 'coding' 'collaborated'\n",
      " 'college' 'color' 'com' 'combinations' 'commerce' 'committed' 'committee'\n",
      " 'communication' 'company' 'competitions' 'completed' 'complex'\n",
      " 'complexity' 'components' 'comprehensive' 'computer' 'computing'\n",
      " 'conceptualized' 'contact' 'contributed' 'corporation' 'course' 'courses'\n",
      " 'coursework' 'create' 'created' 'cs1070185' 'cse' 'css' 'custom' 'cyber'\n",
      " 'dart' 'data' 'database' 'date' 'debug' 'dec' 'decoder' 'degree'\n",
      " 'delegated' 'delhi' 'demonstration' 'design' 'designed' 'designing'\n",
      " 'detail' 'details' 'detect' 'detected' 'detection' 'develop' 'developed'\n",
      " 'developer' 'developing' 'development' 'di' 'differential' 'digital'\n",
      " 'discord' 'discovery' 'discrete' 'discussion' 'dithering' 'documentation'\n",
      " 'documents' 'dr' 'draw' 'drive' 'drivers' 'dropbox' 'du' 'duration' 'e'\n",
      " 'eccv' 'eclipse' 'edge' 'education' 'effectively' 'efficiency'\n",
      " 'efficient' 'electronically' 'emacs' 'email' 'enabling' 'encoder'\n",
      " 'engineering' 'engineers' 'enhance' 'enhancement' 'ensign' 'ensure'\n",
      " 'ensuring' 'environments' 'equations' 'equipped' 'er' 'erent' 'erential'\n",
      " 'ernet' 'errors' 'ers' 'ethics' 'evaluated' 'evaluates' 'even' 'everyone'\n",
      " 'example' 'exceptional' 'exciting' 'expanding' 'experience' 'expertise'\n",
      " 'explored' 'extended' 'extensive' 'faculty' 'fall' 'feature' 'features'\n",
      " 'feb' 'ffmpeg' 'field' 'figures' 'filtering' 'firebase' 'flutter' 'food'\n",
      " 'for' 'forums' 'foundation' 'framework' 'frameworks' 'fremont' 'freshmen'\n",
      " 'friendly' 'from' 'fully' 'functioning' 'gained' 'game' 'gathering'\n",
      " 'generate' 'generated' 'github' 'give' 'globus' 'gmail' 'gobind' 'google'\n",
      " 'gpa' 'graduate' 'graduation' 'graphics' 'group' 'gupta' 'guru' 'hands'\n",
      " 'hangman' 'hanoi' 'hansraj' 'hardware' 'harman' 'harmanjaggi'\n",
      " 'harmanjaggs' 'hatchhack' 'having' 'help' 'hence' 'higher' 'host' 'house'\n",
      " 'housing' 'how' 'html' 'http' 'https' 'i' 'icml' 'idea' 'ideas'\n",
      " 'identification' 'ii' 'iit' 'iitd' 'im' 'image' 'images' 'imaspartan'\n",
      " 'implemented' 'improving' 'in' 'inc' 'incorporating' 'increase'\n",
      " 'increased' 'independent' 'independently' 'indesign' 'india' 'indian'\n",
      " 'indraprastha' 'industry' 'infor' 'information' 'innovative' 'insights'\n",
      " 'install' 'institute' 'instructions' 'integrated' 'integrity'\n",
      " 'intelligence' 'interactive' 'interest' 'interested' 'interface' 'intern'\n",
      " 'internship' 'interview' 'into' 'introduction' 'intuitive' 'inventory'\n",
      " 'investigated' 'involved' 'ios' 'issues' 'it' 'iworks' 'jaggi' 'jain'\n",
      " 'jan' 'january' 'java' 'javascript' 'jose' 'jun' 'kalra' 'kernel'\n",
      " 'kernels' 'kids' 'knn' 'knowledge' 'kulachi' 'labelled' 'labels' 'lake'\n",
      " 'languages' 'large' 'las' 'latest' 'lazyengineer' 'lead' 'leader'\n",
      " 'leading' 'learn' 'learned' 'learning' 'learnt' 'leetcode' 'letter'\n",
      " 'leverage' 'leveraged' 'libraries' 'like' 'linear' 'linked' 'linkedin'\n",
      " 'linking' 'linux' 'look' 'looking' 'ltd' 'machine' 'machinery' 'machines'\n",
      " 'made' 'madras' 'mail' 'major' 'makes' 'managed' 'management' 'manik'\n",
      " 'manipulation' 'manner' 'materials' 'mathematics' 'mation' 'matrices'\n",
      " 'may' 'me' 'measured' 'meet' 'meetings' 'meets' 'members' 'memory'\n",
      " 'methods' 'microsoft' 'milpitas' 'mkl' 'mobile' 'model' 'modeling'\n",
      " 'month' 'monthly' 'months' 'motivated' 'mozilla' 'msr' 'much' 'multi'\n",
      " 'multiple' 'mysql' 'name' 'network' 'networked' 'networks' 'new' 'nips'\n",
      " 'nodes' 'non' 'novel' 'november' 'nptel' 'number' 'nv' 'o' 'object'\n",
      " 'objective' 'obtain' 'occupied' 'october' 'of' 'offer' 'office' 'on'\n",
      " 'one' 'ones' 'online' 'open' 'operational' 'optimization' 'options' 'or'\n",
      " 'oriented' 'osx' 'other' 'ously' 'over' 'painterly' 'parking'\n",
      " 'participate' 'people' 'percentage' 'performance' 'perl' 'person'\n",
      " 'personal' 'photo' 'photoshop' 'pixel' 'player' 'plsa' 'poor' 'position'\n",
      " 'possibility' 'practical' 'practice' 'prateek' 'pre' 'predict' 'prem'\n",
      " 'preparation' 'present' 'presented' 'president' 'previ' 'printer'\n",
      " 'probability' 'problem' 'problems' 'processing' 'produced' 'products'\n",
      " 'prof' 'professional' 'proficient' 'profile' 'program' 'programmers'\n",
      " 'programming' 'project' 'projects' 'protocol' 'provided' 'public'\n",
      " 'pursue' 'pursuing' 'purview' 'pvt' 'python' 'qa' 'quantization'\n",
      " 'quickly' 'range' 'rank' 'rating' 'read' 'reader' 'real' 'realistic'\n",
      " 'receiving' 'recipe' 'recipes' 'recognition' 'recommenders' 'reduced'\n",
      " 'regression' 'regularizers' 'reinforcement' 'related' 'relevant'\n",
      " 'reliable' 'remote' 'rendering' 'repair' 'reports' 'requirement'\n",
      " 'research' 'resident' 'residential' 'resolution' 'responsibilities'\n",
      " 'resume' 'rohini' 'role' 's' 'sales' 'salt' 'sample' 'san' 'satisfaction'\n",
      " 'saurabh' 'saved' 'school' 'science' 'script' 'search' 'seeing' 'seeking'\n",
      " 'segmentation' 'semi' 'senior' 'sep' 'september' 'server' 'services'\n",
      " 'shipping' 'showcase' 'shraddhanand' 'signi' 'similar' 'simple' 'singh'\n",
      " 'sjsu' 'skilled' 'skills' 'slack' 'slc' 'slot' 'smoothing' 'sociate'\n",
      " 'soft' 'software' 'solutions' 'solve' 'solving' 'source' 'spaces'\n",
      " 'spartan' 'spreadsheet' 'spring' 'sql' 'stanford' 'state' 'stats' 'stay'\n",
      " 'stayed' 'stock' 'stockroom' 'stored' 'strong' 'structural' 'structure'\n",
      " 'structures' 'student' 'students' 'studies' 'studio' 'stuff' 'subhashis'\n",
      " 'sublime' 'submitting' 'successfully' 'such' 'summary' 'summer'\n",
      " 'supervised' 'support' 'sura' 'surveillance' 'svm' 'svms' 'swami' 'swift'\n",
      " 'system' 'systematic' 'systems' 'take' 'talk' 'targeting' 'task' 'tasks'\n",
      " 'teach' 'team' 'teamwork' 'tech' 'technical' 'technique' 'techniques'\n",
      " 'technology' 'terminal' 'test' 'tested' 'tester' 'textwrangler' 'that'\n",
      " 'the' 'thickening' 'this' 'through' 'thunderbird' 'time' 'to' 'towards'\n",
      " 'towers' 'training' 'trainings' 'traversed' 'tree' 'tutor'\n",
      " 'undergraduate' 'understanding' 'unity' 'university' 'unix' 'unseen'\n",
      " 'unsupervised' 'unusual' 'updated' 'us' 'usage' 'use' 'used' 'user'\n",
      " 'users' 'using' 'ut' 'utah' 'utilized' 'utilizing' 'vacant' 'valuable'\n",
      " 'various' 'varma' 'vector' 'vectors' 'vegas' 'via' 'video' 'videos'\n",
      " 'vihar' 'vision' 'visual' 'volunteer' 'volunteered' 'was' 'we' 'web'\n",
      " 'website' 'weekly' 'which' 'wide' 'windows' 'with' 'within' 'work'\n",
      " 'worked' 'working' 'wrote' 'www' 'x' 'xamarin' 'xcode' 'xii' 'year'\n",
      " 'zareh' 'zoom' 'zylu']\n"
     ]
    }
   ],
   "source": [
    "wordset = str()\n",
    "\n",
    "for i in range(len_of_pdf):\n",
    "    wordset = np.union1d(wordset,pdfs[i])\n",
    "print(wordset)"
   ]
  },
  {
   "cell_type": "markdown",
   "id": "cfea50ee-030c-47ae-b11d-3da8bba41ea3",
   "metadata": {},
   "source": [
    "### Calculating Bag-of-Words"
   ]
  },
  {
   "cell_type": "code",
   "execution_count": 65,
   "id": "7dacc523-7b5d-453c-85cd-d7bb6a315b14",
   "metadata": {},
   "outputs": [
    {
     "data": {
      "text/html": [
       "<div>\n",
       "<style scoped>\n",
       "    .dataframe tbody tr th:only-of-type {\n",
       "        vertical-align: middle;\n",
       "    }\n",
       "\n",
       "    .dataframe tbody tr th {\n",
       "        vertical-align: top;\n",
       "    }\n",
       "\n",
       "    .dataframe thead th {\n",
       "        text-align: right;\n",
       "    }\n",
       "</style>\n",
       "<table border=\"1\" class=\"dataframe\">\n",
       "  <thead>\n",
       "    <tr style=\"text-align: right;\">\n",
       "      <th></th>\n",
       "      <th>pdf 0</th>\n",
       "      <th>pdf 1</th>\n",
       "      <th>pdf 2</th>\n",
       "      <th>pdf 3</th>\n",
       "    </tr>\n",
       "  </thead>\n",
       "  <tbody>\n",
       "    <tr>\n",
       "      <th></th>\n",
       "      <td>0</td>\n",
       "      <td>0</td>\n",
       "      <td>0</td>\n",
       "      <td>0</td>\n",
       "    </tr>\n",
       "    <tr>\n",
       "      <th>0</th>\n",
       "      <td>0</td>\n",
       "      <td>0</td>\n",
       "      <td>0</td>\n",
       "      <td>3</td>\n",
       "    </tr>\n",
       "    <tr>\n",
       "      <th>1</th>\n",
       "      <td>0</td>\n",
       "      <td>0</td>\n",
       "      <td>0</td>\n",
       "      <td>3</td>\n",
       "    </tr>\n",
       "    <tr>\n",
       "      <th>10</th>\n",
       "      <td>0</td>\n",
       "      <td>0</td>\n",
       "      <td>0</td>\n",
       "      <td>3</td>\n",
       "    </tr>\n",
       "    <tr>\n",
       "      <th>100</th>\n",
       "      <td>0</td>\n",
       "      <td>0</td>\n",
       "      <td>0</td>\n",
       "      <td>3</td>\n",
       "    </tr>\n",
       "  </tbody>\n",
       "</table>\n",
       "</div>"
      ],
      "text/plain": [
       "     pdf 0  pdf 1  pdf 2  pdf 3\n",
       "         0      0      0      0\n",
       "0        0      0      0      3\n",
       "1        0      0      0      3\n",
       "10       0      0      0      3\n",
       "100      0      0      0      3"
      ]
     },
     "execution_count": 65,
     "metadata": {},
     "output_type": "execute_result"
    }
   ],
   "source": [
    "def calculateBOW(wordset,l_doc):\n",
    "  tf_diz = dict.fromkeys(wordset,0)\n",
    "  for word in l_doc:\n",
    "      tf_diz[word]=l_doc.count(word)\n",
    "  return tf_diz\n",
    "\n",
    "    \n",
    "df = pd.DataFrame()\n",
    "for i in range(len_of_pdf): \n",
    "    bow = calculateBOW(wordset,pdfs[i])\n",
    "    df[\"pdf \" + str(i)] = bow\n",
    "df.head()"
   ]
  },
  {
   "cell_type": "code",
   "execution_count": 66,
   "id": "c2b79947-b405-40b7-95cd-327afd3c96a3",
   "metadata": {},
   "outputs": [
    {
     "data": {
      "text/plain": [
       "(769, 4)"
      ]
     },
     "execution_count": 66,
     "metadata": {},
     "output_type": "execute_result"
    }
   ],
   "source": [
    "df.shape"
   ]
  },
  {
   "cell_type": "code",
   "execution_count": 67,
   "id": "b9507e29-5df7-466e-a72f-a84bcea513f7",
   "metadata": {},
   "outputs": [],
   "source": [
    "df.to_csv('resume.csv')"
   ]
  }
 ],
 "metadata": {
  "kernelspec": {
   "display_name": "Python 3 (ipykernel)",
   "language": "python",
   "name": "python3"
  },
  "language_info": {
   "codemirror_mode": {
    "name": "ipython",
    "version": 3
   },
   "file_extension": ".py",
   "mimetype": "text/x-python",
   "name": "python",
   "nbconvert_exporter": "python",
   "pygments_lexer": "ipython3",
   "version": "3.10.7"
  }
 },
 "nbformat": 4,
 "nbformat_minor": 5
}
